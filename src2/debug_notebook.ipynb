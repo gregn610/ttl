{
 "cells": [
  {
   "cell_type": "code",
   "execution_count": 1,
   "metadata": {
    "collapsed": false
   },
   "outputs": [
    {
     "data": {
      "text/plain": [
       "['/Users/gregn/Projects/Software/TimeTillComplete.com/src2']"
      ]
     },
     "execution_count": 1,
     "metadata": {},
     "output_type": "execute_result"
    }
   ],
   "source": [
    "!!pwd\n"
   ]
  },
  {
   "cell_type": "code",
   "execution_count": null,
   "metadata": {
    "collapsed": true
   },
   "outputs": [],
   "source": [
    "from BatchSample import BatchSample\n",
    "from TTCModelData import TTCModelData"
   ]
  },
  {
   "cell_type": "code",
   "execution_count": null,
   "metadata": {
    "collapsed": false
   },
   "outputs": [],
   "source": [
    "import os\n",
    "from tqdm import tqdm"
   ]
  },
  {
   "cell_type": "code",
   "execution_count": null,
   "metadata": {
    "collapsed": false
   },
   "outputs": [],
   "source": [
    "\n",
    "SAMPLE_FILES_PATH = '../data/population_v2.1/'\n",
    "SAMPLE_FILES = list(map(lambda fn: os.path.join(SAMPLE_FILES_PATH, fn), [\n",
    "    \"2004-01-01.log\",\n",
    "    \"2004-01-02.log\",\n",
    "    \"2004-01-03.log\",\n",
    "    \"2004-01-04.log\",\n",
    "    \"2004-01-05.log\",\n",
    "    \"2004-01-06.log\",\n",
    "    \"2004-01-07.log\",\n",
    "    \"2004-01-08.log\",\n",
    "    \"2004-01-09.log\",\n",
    "    \"2004-01-10.log\",\n",
    "    \"2004-01-11.log\",\n",
    "    \"2004-01-12.log\",\n",
    "    \"2004-01-13.log\",\n",
    "    \"2004-01-14.log\",\n",
    "    \"2004-01-15.log\",\n",
    "    \"2004-01-16.log\",\n",
    "    \"2004-01-17.log\",\n",
    "    \"2004-01-18.log\",\n",
    "    \"2004-01-19.log\",\n",
    "    \"2004-01-20.log\",\n",
    "    \"2004-01-21.log\",\n",
    "    \"2004-01-22.log\",\n",
    "    \"2004-01-23.log\",\n",
    "    \"2004-01-24.log\",\n",
    "    \"2004-01-25.log\",\n",
    "    \"2004-01-26.log\",\n",
    "    \"2004-01-27.log\",\n",
    "    \"2004-01-28.log\",\n",
    "    \"2004-01-29.log\",\n",
    "    \"2004-01-30.log\",\n",
    "    \"2004-01-31.log\",\n",
    "    \"2004-02-01.log\",\n",
    "    \"2004-02-02.log\",\n",
    "    \"2004-02-03.log\",\n",
    "    \"2004-02-04.log\",\n",
    "    \"2004-02-05.log\",\n",
    "    \"2004-02-06.log\",\n",
    "    \"2004-02-07.log\",\n",
    "    \"2004-02-08.log\",\n",
    "    \"2004-02-09.log\",\n",
    "    \"2004-02-10.log\",\n",
    "    \"2004-02-11.log\",\n",
    "    \"2004-02-12.log\",\n",
    "    \"2004-02-13.log\",\n",
    "    \"2004-02-14.log\",\n",
    "    \"2004-02-15.log\",\n",
    "    \"2004-02-16.log\",\n",
    "    \"2004-02-17.log\",\n",
    "    \"2004-02-18.log\",\n",
    "    \"2004-02-19.log\",\n",
    "    \"2004-02-20.log\",\n",
    "    \"2004-02-21.log\",\n",
    "    \"2004-02-22.log\",\n",
    "    \"2004-02-23.log\",\n",
    "    \"2004-02-24.log\",\n",
    "    \"2004-02-25.log\",\n",
    "    \"2004-02-26.log\",\n",
    "    \"2004-02-27.log\",\n",
    "    \"2004-02-28.log\",\n",
    "    \"2004-02-29.log\",\n",
    "]))\n",
    "\n",
    "md = TTCModelData()\n",
    "md.load_raw_sample_files(SAMPLE_FILES)\n"
   ]
  },
  {
   "cell_type": "code",
   "execution_count": null,
   "metadata": {
    "collapsed": false
   },
   "outputs": [],
   "source": [
    "%matplotlib inline"
   ]
  },
  {
   "cell_type": "code",
   "execution_count": null,
   "metadata": {
    "collapsed": false
   },
   "outputs": [],
   "source": [
    "import matplotlib.pyplot as plt\n",
    "from mpl_toolkits.mplot3d import Axes3D\n",
    "fig = plt.figure()\n",
    "ax = fig.add_subplot(111, projection='3d')"
   ]
  },
  {
   "cell_type": "code",
   "execution_count": null,
   "metadata": {
    "collapsed": false
   },
   "outputs": [],
   "source": [
    "from mpl_toolkits.mplot3d import Axes3D\n",
    "import matplotlib.pyplot as plt\n",
    "import numpy as np\n",
    "\n",
    "fig = plt.figure()\n",
    "ax = fig.add_subplot(111, projection='3d')\n",
    "for c, z in zip(['r', 'g', 'b', 'y'], [30, 20, 10, 0]):\n",
    "    xs = np.arange(20)\n",
    "    ys = np.random.rand(20)\n",
    "\n",
    "    # You can provide either a single color or an array. To demonstrate this,\n",
    "    # the first bar of each set will be colored cyan.\n",
    "    cs = [c] * len(xs)\n",
    "    cs[0] = 'c'\n",
    "    ax.bar(xs, ys, zs=z, zdir='y', color=cs, alpha=0.8)\n",
    "\n",
    "ax.set_xlabel('X timesteps')\n",
    "ax.set_ylabel('Y features')\n",
    "ax.set_zlabel('Z')\n",
    "\n",
    "plt.show()\n"
   ]
  },
  {
   "cell_type": "code",
   "execution_count": null,
   "metadata": {
    "collapsed": true
   },
   "outputs": [],
   "source": [
    "bs = md.training_samples[0]"
   ]
  },
  {
   "cell_type": "code",
   "execution_count": null,
   "metadata": {
    "collapsed": false
   },
   "outputs": [],
   "source": [
    "bs._get_dfI().columns.values"
   ]
  },
  {
   "cell_type": "code",
   "execution_count": null,
   "metadata": {
    "collapsed": false
   },
   "outputs": [],
   "source": [
    "for idx in tqdm(range(1,len(md.training_samples))):\n",
    "    first  = md.training_samples[idx-1]._get_dfI()\n",
    "    second = md.training_samples[idx]._get_dfI()\n",
    "    assert(np.array_equal(first.columns.values, second.columns.values))\n",
    "print('All asserts passed')"
   ]
  },
  {
   "cell_type": "code",
   "execution_count": null,
   "metadata": {
    "collapsed": false
   },
   "outputs": [],
   "source": [
    "ps = md.load_prediction_files(['../data/population_v2.1/2005-11-11.log'])"
   ]
  },
  {
   "cell_type": "code",
   "execution_count": null,
   "metadata": {
    "collapsed": false
   },
   "outputs": [],
   "source": [
    "ps.shape"
   ]
  },
  {
   "cell_type": "code",
   "execution_count": null,
   "metadata": {
    "collapsed": true
   },
   "outputs": [],
   "source": [
    "nb_samples = md.max_timesteps"
   ]
  },
  {
   "cell_type": "code",
   "execution_count": null,
   "metadata": {
    "collapsed": true
   },
   "outputs": [],
   "source": [
    "log_sample = 33"
   ]
  },
  {
   "cell_type": "code",
   "execution_count": null,
   "metadata": {
    "collapsed": false
   },
   "outputs": [],
   "source": [
    "lbound = log_sample * nb_samples\n",
    "ubound = (log_sample+1)*nb_samples\n",
    "print('lbound: %d\\nubound:%d'%(lbound, ubound))\n",
    "print('md.training_samples[log_sample].filepath_or_buffer:%s'%(md.training_samples[log_sample].filepath_or_buffer))\n",
    "for idx, sliced in enumerate(md.X_train[lbound:ubound,:,:]):\n",
    "    y  = md.xscaler.inverse_transform(sliced)\n",
    "    x  = y[idx,0]\n",
    "    c2 = y[idx,8] \n",
    "    c3 = y[idx,9]\n",
    "    z = md.training_samples[log_sample].regularizedToDateTime('0000__C0', x)\n",
    "    print('%s %d %d' %(z, c2, c3))\n",
    "    "
   ]
  },
  {
   "cell_type": "code",
   "execution_count": null,
   "metadata": {
    "collapsed": false
   },
   "outputs": [],
   "source": [
    "md.training_samples[log_sample].dfX"
   ]
  },
  {
   "cell_type": "code",
   "execution_count": 2,
   "metadata": {
    "collapsed": false
   },
   "outputs": [
    {
     "data": {
      "text/plain": [
       "['modeldata.h5', 'modeldata.small.h5']"
      ]
     },
     "execution_count": 2,
     "metadata": {},
     "output_type": "execute_result"
    }
   ],
   "source": [
    "!!ls *.h5"
   ]
  },
  {
   "cell_type": "code",
   "execution_count": null,
   "metadata": {
    "collapsed": false
   },
   "outputs": [],
   "source": [
    "!! ./ttc.py predict modeldata.h5 ../data/population_v2.1/2004-01-15.log"
   ]
  },
  {
   "cell_type": "code",
   "execution_count": null,
   "metadata": {
    "collapsed": true
   },
   "outputs": [],
   "source": []
  },
  {
   "cell_type": "code",
   "execution_count": 4,
   "metadata": {
    "collapsed": false
   },
   "outputs": [
    {
     "data": {
      "text/plain": [
       "['/var/folders/ch/21q6lfkj3zd0gc3zl1cpsfh00000gq/T/tmpviahef35']"
      ]
     },
     "execution_count": 4,
     "metadata": {},
     "output_type": "execute_result"
    }
   ],
   "source": [
    "!! ls /var/folders/ch/21q6lfkj3zd0gc3zl1cpsfh00000gq/T/tmpviahef35"
   ]
  },
  {
   "cell_type": "code",
   "execution_count": 3,
   "metadata": {
    "collapsed": true
   },
   "outputs": [],
   "source": [
    "import h5py\n",
    "import re"
   ]
  },
  {
   "cell_type": "code",
   "execution_count": 16,
   "metadata": {
    "collapsed": false
   },
   "outputs": [
    {
     "name": "stdout",
     "output_type": "stream",
     "text": [
      "['misc/training_history/th00000/acc', 'misc/training_history/th00000/loss', 'misc/training_history/th00000/val_acc', 'misc/training_history/th00000/val_loss']\n"
     ]
    }
   ],
   "source": [
    "kl = []\n",
    "with h5py.File('/var/folders/ch/21q6lfkj3zd0gc3zl1cpsfh00000gq/T/tmpviahef35', 'r+') as h5f:\n",
    "    h5f.visititems(lambda name, obj : kl.append(name))\n",
    "    \n",
    "print([k for k in kl if re.match('^misc/training_history/th\\d+/',k)])\n",
    "\n",
    "    #kl = list(h5f.keys())\n",
    "    #print(kl)\n",
    "    #self.assertListEqual(['misc/training_history/th00000/acc',\n",
    "    #                      'misc/training_history/th00000/loss',\n",
    "    #                      'misc/training_history/th00000/val_acc',\n",
    "    #                      'misc/training_history/th00000/val_loss'],\n",
    "    #                     [_ for _ in kl if re.match('^misc/training_history/th', _)]\n",
    "    #                     )"
   ]
  },
  {
   "cell_type": "code",
   "execution_count": null,
   "metadata": {
    "collapsed": true
   },
   "outputs": [],
   "source": [
    "\"\"\"\n",
    "Regular expressions\n",
    "Date and T\n",
    "\\d\\d[-](0[1-9]|1[012])[-](0[1-9]|[12][0-9]|3[01])T\n",
    "\n",
    "Time\n",
    "^(2[0-3]|[01]?[0-9]):([0-5]?[0-9]):([0-5]?[0-9])$\n",
    "\n",
    "\"\"\""
   ]
  }
 ],
 "metadata": {
  "kernelspec": {
   "display_name": "Python 3",
   "language": "python",
   "name": "python3"
  },
  "language_info": {
   "codemirror_mode": {
    "name": "ipython",
    "version": 3
   },
   "file_extension": ".py",
   "mimetype": "text/x-python",
   "name": "python",
   "nbconvert_exporter": "python",
   "pygments_lexer": "ipython3",
   "version": "3.5.1"
  }
 },
 "nbformat": 4,
 "nbformat_minor": 1
}
